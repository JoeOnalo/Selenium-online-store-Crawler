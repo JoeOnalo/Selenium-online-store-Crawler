{
 "cells": [
  {
   "cell_type": "code",
   "execution_count": 1,
   "id": "25dff8e3-ef8b-444f-8634-21abae8fc56f",
   "metadata": {
    "tags": []
   },
   "outputs": [],
   "source": [
    "from selenium import webdriver\n",
    "import undetected_chromedriver as uc\n",
    "from selenium.webdriver.chrome.options import Options\n",
    "from webdriver_manager.chrome import ChromeDriverManager\n",
    "from selenium.webdriver.common.by import By\n",
    "from selenium.webdriver.support.ui import WebDriverWait\n",
    "from selenium.webdriver.support import expected_conditions as EC\n",
    "import time\n",
    "from selenium.common.exceptions import NoSuchElementException,TimeoutException,ElementClickInterceptedException\n",
    "from selenium.webdriver.common.action_chains import ActionChains\n",
    "import pandas as pd"
   ]
  },
  {
   "cell_type": "code",
   "execution_count": 2,
   "id": "b0ebbeb0-399d-4e52-a290-117a70ea6a25",
   "metadata": {},
   "outputs": [],
   "source": [
    "options = Options()\n",
    "options.binary_location = '/usr/bin/google-chrome'\n",
    "chromedriver_path='../Driver/chromedriver_c'\n",
    "options.add_argument(f\"webdriver.chrome.driver={chromedriver_path}\")\n",
    "\n",
    " \n",
    "# Adding argument to disable the AutomationControlled flag \n",
    "options.add_argument(\"--disable-blink-features=AutomationControlled\") \n",
    "#options.add_experimental_option(\"prefs\", { \"profile.default_content_setting_values.geolocation\": 1})\n",
    "options.add_argument(\"--disable-notifications\")  # Disable notifications\n",
    " \n",
    "# Exclude the collection of enable-automation switches \n",
    "#options.add_experimental_option(\"excludeSwitches\", [\"enable-automation\"]) \n",
    " \n",
    "# Turn-off userAutomationExtension \n",
    "#options.add_experimental_option(\"useAutomationExtension\", False) \n",
    " \n",
    "# Setting the driver path and requesting a page \n",
    "#driver = uc.Chrome(options=options)\n",
    "driver = uc.Chrome(driver_executable_path=ChromeDriverManager().install(),options=options)\n",
    "\n",
    "# Changing the property of the navigator value for webdriver to undefined \n",
    "driver.execute_script(\"Object.defineProperty(navigator, 'webdriver', {get: () => undefined})\") "
   ]
  },
  {
   "cell_type": "code",
   "execution_count": 3,
   "id": "1ee3aa9e-a44c-470c-8a8a-15db1cad8b0c",
   "metadata": {
    "tags": []
   },
   "outputs": [],
   "source": [
    "website=\"https://naivas.online/\"\n",
    "website=\"https://naivas.online/beauty-cosmetics\"\n",
    "#website=\"..Driver/testpages/Naivas Kenya _ Everything You Love On Demand.html\"\n",
    "#website=\"https://naivas.online/hardware\"\n",
    "#website=\"https://naivas.online/standard-bike\"\n",
    "#website=\"https://naivas.online/baby-kids\"\n",
    "#main_cat=\"PET\"\n",
    "#website=\"https://naivas.online/stationery\"\n"
   ]
  },
  {
   "cell_type": "code",
   "execution_count": 4,
   "id": "2237f091-a338-4095-b6b7-cc68cbc19482",
   "metadata": {
    "tags": []
   },
   "outputs": [],
   "source": [
    "def rejectCookies():\n",
    "    shadowxpath='//div[@id=\"axeptio_overlay\"]/div'\n",
    "    disable_cookie=WebDriverWait(driver,40).until(EC.presence_of_element_located((By.XPATH,shadowxpath))).shadow_root\n",
    "    no=WebDriverWait(disable_cookie,40).until(EC.visibility_of_element_located((By.ID,\"axeptio_btn_dismiss\")))\n",
    "    actions=ActionChains(driver)\n",
    "    actions.move_to_element(no).perform()\n",
    "    no.click()"
   ]
  },
  {
   "cell_type": "code",
   "execution_count": 5,
   "id": "6f04607c-bc38-4e14-8eda-5ee1792239af",
   "metadata": {
    "tags": []
   },
   "outputs": [],
   "source": [
    "def menuLoop():\n",
    "    shop_menu_xpath='//li/a[@href=\"https://naivas.online/\"]'\n",
    "    wait=WebDriverWait(driver,30)\n",
    "    shop_menu=wait.until(EC.presence_of_element_located((By.XPATH,shop_menu_xpath)))\n",
    "    action=ActionChains(driver)\n",
    "    action.move_to_element(shop_menu).perform()\n",
    "    menu=driver.find_element(By.XPATH,'//ul[contains(@class,\"mm_menus_ul\")]/li[2]')                                                       \n",
    "    categories1=menu.find_elements(By.XPATH,'//li[contains(@class,\"mm_tabs_li mm_tabs_has_content\")]')\n",
    "    time.sleep(5)\n",
    "    print(len(categories1))\n",
    "    for cat in categories1:\n",
    "        action.move_to_element(cat).perform()\n",
    "        time.sleep(5)"
   ]
  },
  {
   "cell_type": "code",
   "execution_count": 6,
   "id": "5cc8dc27-ee11-472a-953c-fba482d9631d",
   "metadata": {},
   "outputs": [],
   "source": [
    "def scrollToFooter():\n",
    "    action=ActionChains(driver)\n",
    "    action.move_to_element(driver.find_element(By.XPATH,'//div[@id=\"blockEmailSubscription_displayFooterRight\"]/p')).perform()"
   ]
  },
  {
   "cell_type": "code",
   "execution_count": 7,
   "id": "a1955cb0-9889-4ab3-9af2-233ad7d4e7bc",
   "metadata": {},
   "outputs": [],
   "source": [
    "def isDiscounted(product):\n",
    "    try:\n",
    "        product.find_element(By.XPATH,'.//span[@class=\"product-flag discount\"]')\n",
    "        return True\n",
    "    except NoSuchElementException:\n",
    "        return False"
   ]
  },
  {
   "cell_type": "code",
   "execution_count": 8,
   "id": "991a3ed9-d464-4214-bb34-41f402cbee88",
   "metadata": {},
   "outputs": [],
   "source": [
    "def getProductList():\n",
    "    ps=driver.find_elements(By.XPATH,'//div[@id=\"js-product-list\"]//div[@class=\"product-miniature js-product-miniature\"]')\n",
    "    return ps"
   ]
  },
  {
   "cell_type": "code",
   "execution_count": 9,
   "id": "bb628dba-81f8-4d9b-8266-04cb0418d87b",
   "metadata": {},
   "outputs": [],
   "source": [
    "def getProductDetails(prod,category=\"\",sub_cat=\"\",brand=\"\"):\n",
    "    product={\"Name\":\"\",\"Price\":\"\",\"Discount Price\":\"\",\"Category\":category,\"Sub Category\":sub_cat,\"Brand\":brand}\n",
    "    #product[\"Main Category\"]=main\n",
    "    #product[\"Sub Category\"]=sub\n",
    "    product[\"Name\"]=prod.find_element(By.XPATH,'.//h5[@class=\"product-name\"]/a').get_attribute(\"title\")\n",
    "    product[\"id\"]=prod.get_attribute(\"data-id-product\")\n",
    "    \n",
    "    try:\n",
    "        if isDiscounted(prod):\n",
    "            product[\"Price\"]=prod.find_element(By.XPATH,'.//span[@class=\"regular-price\"]').text\n",
    "            product[\"Discount Price\"]=prod.find_element(By.XPATH,'.//span[@class=\"price product-price\"]').text\n",
    "        else:\n",
    "            product[\"Price\"]=prod.find_element(By.XPATH,'.//span[@class=\"price product-price\"]').text\n",
    "            product[\"Discount Price\"]=product[\"Price\"]\n",
    "        return product\n",
    "    except NoSuchElementException as nse:\n",
    "        print(product[\"Name\"])\n",
    "        print(str(nse))\n",
    "        product[\"Price\"]=None\n",
    "        product[\"Discount Price\"]=None\n",
    "        return product\n",
    "        \n",
    "        \n",
    "    \n",
    "    "
   ]
  },
  {
   "cell_type": "code",
   "execution_count": 10,
   "id": "58ad27ab-a5a3-4004-aacc-d85fac566474",
   "metadata": {},
   "outputs": [],
   "source": [
    "def productCount():\n",
    "    try:\n",
    "        #count_string=driver.find_element(By.XPATH,'//div[@id=\"js-product-list-top\"]//div/p[contains(text(),\"There\")]').text\n",
    "        count_string=WebDriverWait(driver,10).until(EC.presence_of_element_located((By.XPATH,'//div[@id=\"js-product-list-top\"]//div/p[contains(text(),\"There\")]'))).text\n",
    "        count_string=count_string.replace(\"There \",\"\")\n",
    "        count_string=count_string.replace(\"is \",\"\")\n",
    "        count_string=count_string.replace(\"are \",\"\")\n",
    "        count_string=count_string.replace(\" product.\",\"\")\n",
    "        count_string=count_string.replace(\" products.\",\"\")\n",
    "        count=int(count_string)\n",
    "        return count\n",
    "    except TimeoutException:\n",
    "        return 0"
   ]
  },
  {
   "cell_type": "code",
   "execution_count": 11,
   "id": "4e7d5bb7-9cdc-462a-844f-e2f534514387",
   "metadata": {},
   "outputs": [],
   "source": [
    "def hasCategories():\n",
    "    try:\n",
    "        cat_xpath='//div[@id=\"_desktop_search_filters\"]//h5[contains(text(),\"Categories\")]'\n",
    "        WebDriverWait(driver,15).until(EC.visibility_of_element_located((By.XPATH,cat_xpath)))\n",
    "        return True\n",
    "    except TimeoutException:\n",
    "        return False"
   ]
  },
  {
   "cell_type": "code",
   "execution_count": 12,
   "id": "c9a7eb7f-14f6-48fb-b7d8-ad32bc325761",
   "metadata": {},
   "outputs": [],
   "source": [
    "def hasBrands():\n",
    "    try:\n",
    "        brand_xpath='//div[@id=\"_desktop_search_filters\"]//h5[contains(text(),\"Brand\")]'\n",
    "        WebDriverWait(driver,15).until(EC.visibility_of_element_located((By.XPATH,brand_xpath)))\n",
    "        return True\n",
    "    except TimeoutException:\n",
    "        return False"
   ]
  },
  {
   "cell_type": "code",
   "execution_count": 13,
   "id": "d1592c3e-a39e-442a-8380-4dafc4071ea4",
   "metadata": {
    "tags": []
   },
   "outputs": [],
   "source": [
    "def getCategories():\n",
    "    cat_xpath='//div[@id=\"_desktop_search_filters\"]//h5[contains(text(),\"Categories\")]/..//li//a'\n",
    "    sub_cats=driver.find_elements(By.XPATH,cat_xpath)\n",
    "    return sub_cats"
   ]
  },
  {
   "cell_type": "code",
   "execution_count": 14,
   "id": "ae130827-1129-45a8-9123-61eba29eb431",
   "metadata": {},
   "outputs": [],
   "source": [
    "def getBrands():\n",
    "    brand_xpath='//div[@id=\"_desktop_search_filters\"]//h5[contains(text(),\"Brand\")]/..//li//a'\n",
    "    brands=driver.find_elements(By.XPATH,brand_xpath)\n",
    "    return brands"
   ]
  },
  {
   "cell_type": "code",
   "execution_count": 15,
   "id": "79eee8b5-73ea-4c05-9658-69b250be221e",
   "metadata": {},
   "outputs": [],
   "source": [
    "def getProductsWithBrand():\n",
    "    if hasBrands():\n",
    "                brands=getBrands()\n",
    "                for b_index in range(len(brands)):\n",
    "                    brand=brands[b_index]\n",
    "                    ActionChains(driver).move_to_element(brand).perform()\n",
    "                    brand_name=brand.text\n",
    "                    if sub_cat+brand_name in complete:\n",
    "                        continue\n",
    "                    print(f\"\\t{brand_name}\")\n",
    "                    brand.click()\n",
    "                    time.sleep(15)\n",
    "                    scraped_data.extend(scrapeData(main_cat,sub_cat,brand_name))\n",
    "                    complete.append(sub_cat+brand_name)\n",
    "                    brands=getBrands()\n",
    "                    ActionChains(driver).move_to_element(brands[b_index]).perform()\n",
    "                    brands[b_index].click()\n",
    "                    time.sleep(15)\n",
    "                    brands=getBrands()\n",
    "    else:\n",
    "                scraped_data.extend(scrapeData(main_cat,sub_cat))"
   ]
  },
  {
   "cell_type": "code",
   "execution_count": 16,
   "id": "3cd015a3-ba42-46cd-a053-38127c16a7ac",
   "metadata": {},
   "outputs": [],
   "source": [
    "def filterThrough(scraped_data,complete,focus,check):\n",
    "    if hasCategories():\n",
    "        categories=getCategories()\n",
    "        for index in range(focus,len(categories)):  \n",
    "            cat=categories[index]\n",
    "            ActionChains(driver).move_to_element(cat).perform()\n",
    "            sub_cat=cat.text\n",
    "            print(sub_cat)\n",
    "            if check:\n",
    "                cat.click()\n",
    "                #load with cat specific brands\n",
    "                time.sleep(15)\n",
    "            if hasBrands():\n",
    "                brands=getBrands()\n",
    "                for b_index in range(len(brands)):\n",
    "                    brand=brands[b_index]\n",
    "                    ActionChains(driver).move_to_element(brand).perform()\n",
    "                    brand_name=brand.text\n",
    "                    if sub_cat+brand_name in complete:\n",
    "                        continue\n",
    "                    print(f\"\\t{brand_name}\")\n",
    "                    brand.click()\n",
    "                    time.sleep(15)\n",
    "                    scraped_data.extend(scrapeData(main_cat,sub_cat,brand_name))\n",
    "                    complete.append(sub_cat+brand_name)\n",
    "                    brands=getBrands()\n",
    "                    ActionChains(driver).move_to_element(brands[b_index]).perform()\n",
    "                    brands[b_index].click()\n",
    "                    time.sleep(15)\n",
    "                    brands=getBrands()\n",
    "            else:\n",
    "                scraped_data.extend(scrapeData(main_cat,sub_cat))\n",
    "            categories=getCategories()\n",
    "            complete.append(categories[index].text)\n",
    "            ActionChains(driver).move_to_element(categories[index]).perform()\n",
    "            categories[index].click()\n",
    "            time.sleep(15)\n",
    "            categories=getCategories()\n",
    "            check=True\n",
    "            focus+=1\n",
    "            print(check,focus)\n",
    "    else:\n",
    "        scraped_data.extend(scrapeData(main_cat))"
   ]
  },
  {
   "cell_type": "code",
   "execution_count": 17,
   "id": "845a282a-60e3-4703-b25f-3b177299acb7",
   "metadata": {},
   "outputs": [],
   "source": [
    "def loadAll():\n",
    "    number_of_products=productCount()\n",
    "    plist=getProductList()\n",
    "    while len(plist)!=number_of_products:\n",
    "        scrollToFooter()\n",
    "        time.sleep(5)\n",
    "        plist=getProductList()"
   ]
  },
  {
   "cell_type": "code",
   "execution_count": 18,
   "id": "074bf9d8-2321-4c17-b12a-41bc9b8cddaf",
   "metadata": {},
   "outputs": [],
   "source": [
    "def scrapeData(category=\"\",sub_cat=\"\",brand=\"\"):\n",
    "    products=[]\n",
    "    if productCount()==0:\n",
    "        return []\n",
    "    else:\n",
    "        loadAll()\n",
    "        for prod in getProductList():\n",
    "            product=getProductDetails(prod,category,sub_cat,brand)\n",
    "            products.append(product)\n",
    "        return products"
   ]
  },
  {
   "cell_type": "code",
   "execution_count": 19,
   "id": "9a0d343a-2f73-4ba6-ab22-ab7974db2a6b",
   "metadata": {
    "tags": []
   },
   "outputs": [],
   "source": [
    "driver.get(website)\n",
    "rejectCookies()\n",
    "time.sleep(20)"
   ]
  },
  {
   "cell_type": "code",
   "execution_count": 20,
   "id": "44635efa-e2c7-44bf-a29f-ab7bd386bf64",
   "metadata": {},
   "outputs": [],
   "source": [
    "scraped_data,complete,focus,check=[],[],0,True"
   ]
  },
  {
   "cell_type": "code",
   "execution_count": null,
   "id": "9a040c94-05f5-4cc0-a3cd-f40fb30ee626",
   "metadata": {},
   "outputs": [],
   "source": []
  },
  {
   "cell_type": "code",
   "execution_count": null,
   "id": "2b59fc8d-8862-430b-b83e-82e478732c8d",
   "metadata": {},
   "outputs": [],
   "source": []
  },
  {
   "cell_type": "code",
   "execution_count": 21,
   "id": "9e122312-3a69-4e86-9024-b85311a7f74b",
   "metadata": {},
   "outputs": [
    {
     "name": "stdout",
     "output_type": "stream",
     "text": [
      "BODY CARE\n",
      "\tALISON\n",
      "\tAMARA\n",
      "\tARIMIS\n",
      "\tBALLET\n",
      "\tBIO\n",
      "\tIMPERIAL LEATHER\n",
      "\tINGRAM\n",
      "\tLURON\n",
      "\tNICE AND LOVELY\n",
      "\tNIVEA\n",
      "\tTROPICAL\n",
      "\tVALON\n",
      "\tVASELINE\n",
      "\tVERSMAN\n",
      "\tZOE\n",
      "True 1\n",
      "COTTON WOOL & BUDS\n",
      "\tDOVE\n",
      "\tTENA\n",
      "\tTENDERCARE\n",
      "\tTIPPYS\n",
      "\tVELVEX\n",
      "True 2\n",
      "DEODORANTS & ANTIPERSPIRANTS\n",
      "\tAXE\n",
      "\tCHRIS ADAMS\n",
      "\tFA\n",
      "\tLURON\n",
      "\tNIVEA\n",
      "\tRASASI\n",
      "\tREXONA\n",
      "True 3\n",
      "FACE CARE\n",
      "\tACNES\n",
      "\tARYUV\n",
      "\tBELLA\n",
      "\tDETTOL\n",
      "\tGARNIER\n",
      "\tHANAN\n",
      "\tLA FEMME\n",
      "\tLURON\n",
      "\tNIVEA\n",
      "\tSIMPLE\n",
      "\tST.IVES\n"
     ]
    }
   ],
   "source": [
    "\n",
    "try:\n",
    "    filterThrough(scraped_data,complete,focus,check)\n",
    "except ElementClickInterceptedException:\n",
    "    check=False\n",
    "    driver.refresh()\n",
    "    time.sleep(20)\n",
    "  "
   ]
  },
  {
   "cell_type": "code",
   "execution_count": 22,
   "id": "d24822f4-268e-4c0a-86ff-f64394830d35",
   "metadata": {},
   "outputs": [
    {
     "data": {
      "text/plain": [
       "(0,\n",
       " False,\n",
       " ['BODY CAREALISON',\n",
       "  'BODY CAREAMARA',\n",
       "  'BODY CAREARIMIS',\n",
       "  'BODY CAREBALLET',\n",
       "  'BODY CAREBIO',\n",
       "  'BODY CAREIMPERIAL LEATHER',\n",
       "  'BODY CAREINGRAM',\n",
       "  'BODY CARELURON',\n",
       "  'BODY CARENICE AND LOVELY',\n",
       "  'BODY CARENIVEA',\n",
       "  'BODY CARETROPICAL',\n",
       "  'BODY CAREVALON',\n",
       "  'BODY CAREVASELINE',\n",
       "  'BODY CAREVERSMAN',\n",
       "  'BODY CAREZOE',\n",
       "  'BODY CARE',\n",
       "  'COTTON WOOL & BUDSDOVE',\n",
       "  'COTTON WOOL & BUDSTENA',\n",
       "  'COTTON WOOL & BUDSTENDERCARE',\n",
       "  'COTTON WOOL & BUDSTIPPYS',\n",
       "  'COTTON WOOL & BUDSVELVEX',\n",
       "  'COTTON WOOL & BUDS',\n",
       "  'DEODORANTS & ANTIPERSPIRANTSAXE',\n",
       "  'DEODORANTS & ANTIPERSPIRANTSCHRIS ADAMS',\n",
       "  'DEODORANTS & ANTIPERSPIRANTSFA',\n",
       "  'DEODORANTS & ANTIPERSPIRANTSLURON',\n",
       "  'DEODORANTS & ANTIPERSPIRANTSNIVEA',\n",
       "  'DEODORANTS & ANTIPERSPIRANTSRASASI',\n",
       "  'DEODORANTS & ANTIPERSPIRANTSREXONA',\n",
       "  'DEODORANTS & ANTIPERSPIRANTS',\n",
       "  'FACE CAREACNES',\n",
       "  'FACE CAREARYUV',\n",
       "  'FACE CAREBELLA',\n",
       "  'FACE CAREDETTOL',\n",
       "  'FACE CAREGARNIER',\n",
       "  'FACE CAREHANAN',\n",
       "  'FACE CARELA FEMME',\n",
       "  'FACE CARELURON',\n",
       "  'FACE CARENIVEA',\n",
       "  'FACE CARESIMPLE',\n",
       "  'FACE CAREST.IVES'])"
      ]
     },
     "execution_count": 22,
     "metadata": {},
     "output_type": "execute_result"
    }
   ],
   "source": [
    "focus,check,complete\n"
   ]
  },
  {
   "cell_type": "code",
   "execution_count": 23,
   "id": "5942175d-0808-4f31-8b5d-3e011bf4774e",
   "metadata": {
    "tags": []
   },
   "outputs": [
    {
     "data": {
      "text/plain": [
       "(0, False)"
      ]
     },
     "execution_count": 23,
     "metadata": {},
     "output_type": "execute_result"
    }
   ],
   "source": [
    "check=False\n",
    "focus,check"
   ]
  },
  {
   "cell_type": "code",
   "execution_count": 31,
   "id": "cc84d8a8-31fa-48dc-ae73-2bb408990ac7",
   "metadata": {
    "tags": []
   },
   "outputs": [
    {
     "data": {
      "text/html": [
       "<div>\n",
       "<style scoped>\n",
       "    .dataframe tbody tr th:only-of-type {\n",
       "        vertical-align: middle;\n",
       "    }\n",
       "\n",
       "    .dataframe tbody tr th {\n",
       "        vertical-align: top;\n",
       "    }\n",
       "\n",
       "    .dataframe thead th {\n",
       "        text-align: right;\n",
       "    }\n",
       "</style>\n",
       "<table border=\"1\" class=\"dataframe\">\n",
       "  <thead>\n",
       "    <tr style=\"text-align: right;\">\n",
       "      <th></th>\n",
       "      <th>Name</th>\n",
       "      <th>Price</th>\n",
       "      <th>Discount Price</th>\n",
       "      <th>Category</th>\n",
       "      <th>Sub Category</th>\n",
       "      <th>Brand</th>\n",
       "      <th>id</th>\n",
       "    </tr>\n",
       "  </thead>\n",
       "  <tbody>\n",
       "    <tr>\n",
       "      <th>0</th>\n",
       "      <td>Alison's Ideal Pure Castor Oil 50ml</td>\n",
       "      <td>KES 141.00</td>\n",
       "      <td>KES 141.00</td>\n",
       "      <td>PET</td>\n",
       "      <td>BODY CARE</td>\n",
       "      <td>ALISON</td>\n",
       "      <td>12337</td>\n",
       "    </tr>\n",
       "    <tr>\n",
       "      <th>1</th>\n",
       "      <td>Alison'S Ideal Pure Castor Oil 200ml</td>\n",
       "      <td>KES 392.00</td>\n",
       "      <td>KES 392.00</td>\n",
       "      <td>PET</td>\n",
       "      <td>BODY CARE</td>\n",
       "      <td>ALISON</td>\n",
       "      <td>12336</td>\n",
       "    </tr>\n",
       "    <tr>\n",
       "      <th>2</th>\n",
       "      <td>Alison's Ideal Pure Castor Oil 100ml</td>\n",
       "      <td>KES 230.00</td>\n",
       "      <td>KES 230.00</td>\n",
       "      <td>PET</td>\n",
       "      <td>BODY CARE</td>\n",
       "      <td>ALISON</td>\n",
       "      <td>12335</td>\n",
       "    </tr>\n",
       "    <tr>\n",
       "      <th>3</th>\n",
       "      <td>Alison's Ideal Olive Oil 25ml</td>\n",
       "      <td>KES 101.00</td>\n",
       "      <td>KES 101.00</td>\n",
       "      <td>PET</td>\n",
       "      <td>BODY CARE</td>\n",
       "      <td>ALISON</td>\n",
       "      <td>12333</td>\n",
       "    </tr>\n",
       "    <tr>\n",
       "      <th>4</th>\n",
       "      <td>Alison's Coconut &amp; Olive Oil 200g</td>\n",
       "      <td>KES 294.00</td>\n",
       "      <td>KES 294.00</td>\n",
       "      <td>PET</td>\n",
       "      <td>BODY CARE</td>\n",
       "      <td>ALISON</td>\n",
       "      <td>12331</td>\n",
       "    </tr>\n",
       "    <tr>\n",
       "      <th>...</th>\n",
       "      <td>...</td>\n",
       "      <td>...</td>\n",
       "      <td>...</td>\n",
       "      <td>...</td>\n",
       "      <td>...</td>\n",
       "      <td>...</td>\n",
       "      <td>...</td>\n",
       "    </tr>\n",
       "    <tr>\n",
       "      <th>312</th>\n",
       "      <td>Garnier Pure Active 3 In 1 150ml</td>\n",
       "      <td>KES 1,295.00</td>\n",
       "      <td>KES 1,295.00</td>\n",
       "      <td>PET</td>\n",
       "      <td>FACE CARE</td>\n",
       "      <td>ST.IVES</td>\n",
       "      <td>12555</td>\n",
       "    </tr>\n",
       "    <tr>\n",
       "      <th>313</th>\n",
       "      <td>Garnier Hydra Bomb Pomeg Mask 32g</td>\n",
       "      <td>KES 350.00</td>\n",
       "      <td>KES 350.00</td>\n",
       "      <td>PET</td>\n",
       "      <td>FACE CARE</td>\n",
       "      <td>ST.IVES</td>\n",
       "      <td>12554</td>\n",
       "    </tr>\n",
       "    <tr>\n",
       "      <th>314</th>\n",
       "      <td>Garnier Hydra Bomb Green T Mask 32g</td>\n",
       "      <td>KES 350.00</td>\n",
       "      <td>KES 350.00</td>\n",
       "      <td>PET</td>\n",
       "      <td>FACE CARE</td>\n",
       "      <td>ST.IVES</td>\n",
       "      <td>12553</td>\n",
       "    </tr>\n",
       "    <tr>\n",
       "      <th>315</th>\n",
       "      <td>Garnier Hydra Bomb Chamomi Mask 32g</td>\n",
       "      <td>KES 350.00</td>\n",
       "      <td>KES 350.00</td>\n",
       "      <td>PET</td>\n",
       "      <td>FACE CARE</td>\n",
       "      <td>ST.IVES</td>\n",
       "      <td>12552</td>\n",
       "    </tr>\n",
       "    <tr>\n",
       "      <th>316</th>\n",
       "      <td>Garnier Even &amp; Matte Tissue Mask 30g</td>\n",
       "      <td>KES 350.00</td>\n",
       "      <td>KES 350.00</td>\n",
       "      <td>PET</td>\n",
       "      <td>FACE CARE</td>\n",
       "      <td>ST.IVES</td>\n",
       "      <td>12551</td>\n",
       "    </tr>\n",
       "  </tbody>\n",
       "</table>\n",
       "<p>317 rows × 7 columns</p>\n",
       "</div>"
      ],
      "text/plain": [
       "                                     Name         Price Discount Price  \\\n",
       "0     Alison's Ideal Pure Castor Oil 50ml    KES 141.00     KES 141.00   \n",
       "1    Alison'S Ideal Pure Castor Oil 200ml    KES 392.00     KES 392.00   \n",
       "2    Alison's Ideal Pure Castor Oil 100ml    KES 230.00     KES 230.00   \n",
       "3           Alison's Ideal Olive Oil 25ml    KES 101.00     KES 101.00   \n",
       "4       Alison's Coconut & Olive Oil 200g    KES 294.00     KES 294.00   \n",
       "..                                    ...           ...            ...   \n",
       "312      Garnier Pure Active 3 In 1 150ml  KES 1,295.00   KES 1,295.00   \n",
       "313     Garnier Hydra Bomb Pomeg Mask 32g    KES 350.00     KES 350.00   \n",
       "314   Garnier Hydra Bomb Green T Mask 32g    KES 350.00     KES 350.00   \n",
       "315   Garnier Hydra Bomb Chamomi Mask 32g    KES 350.00     KES 350.00   \n",
       "316  Garnier Even & Matte Tissue Mask 30g    KES 350.00     KES 350.00   \n",
       "\n",
       "    Category Sub Category    Brand     id  \n",
       "0        PET    BODY CARE   ALISON  12337  \n",
       "1        PET    BODY CARE   ALISON  12336  \n",
       "2        PET    BODY CARE   ALISON  12335  \n",
       "3        PET    BODY CARE   ALISON  12333  \n",
       "4        PET    BODY CARE   ALISON  12331  \n",
       "..       ...          ...      ...    ...  \n",
       "312      PET    FACE CARE  ST.IVES  12555  \n",
       "313      PET    FACE CARE  ST.IVES  12554  \n",
       "314      PET    FACE CARE  ST.IVES  12553  \n",
       "315      PET    FACE CARE  ST.IVES  12552  \n",
       "316      PET    FACE CARE  ST.IVES  12551  \n",
       "\n",
       "[317 rows x 7 columns]"
      ]
     },
     "execution_count": 31,
     "metadata": {},
     "output_type": "execute_result"
    }
   ],
   "source": [
    "df=pd.DataFrame(scraped_data)\n",
    "df"
   ]
  },
  {
   "cell_type": "code",
   "execution_count": 25,
   "id": "ccaf74ae-29a6-477c-af06-7fd0abfc4a70",
   "metadata": {},
   "outputs": [],
   "source": [
    "#df.to_csv(f\"naivas_{main_cat}.csv\",index=False)"
   ]
  },
  {
   "cell_type": "code",
   "execution_count": 26,
   "id": "626f7857-e791-4245-b90a-c92599d0aeb4",
   "metadata": {},
   "outputs": [],
   "source": [
    "#df.duplicated(subset=[\"id\"]).index"
   ]
  },
  {
   "cell_type": "code",
   "execution_count": 27,
   "id": "81090002-55ad-4b35-8076-52ee78f6fbe0",
   "metadata": {},
   "outputs": [],
   "source": [
    "#df[df.duplicated(subset=[\"id\"],keep=False)].index"
   ]
  },
  {
   "cell_type": "code",
   "execution_count": 28,
   "id": "958832cb-4e05-4219-9b3e-17e5a4704e00",
   "metadata": {},
   "outputs": [],
   "source": [
    "#df[df.duplicated(subset=[\"id\"],keep=False)]"
   ]
  },
  {
   "cell_type": "code",
   "execution_count": 29,
   "id": "57213679-3814-4761-80af-dc810a9fd89b",
   "metadata": {},
   "outputs": [],
   "source": [
    "#df=df.drop(df[df.duplicated(subset=[\"id\"],keep=\"first\")].index)"
   ]
  },
  {
   "cell_type": "code",
   "execution_count": 30,
   "id": "3c0a3b80-1cf3-4112-8642-960b73750b20",
   "metadata": {},
   "outputs": [],
   "source": [
    "#df.duplicated(subset=[\"id\"]).sum()"
   ]
  },
  {
   "cell_type": "code",
   "execution_count": null,
   "id": "d407a91e-dd43-4228-86f2-287b34de1079",
   "metadata": {},
   "outputs": [],
   "source": [
    "complete=['BODY CAREALISON',\n",
    "  'BODY CAREAMARA',\n",
    "  'BODY CAREARIMIS',\n",
    "  'BODY CAREBALLET',\n",
    "  'BODY CAREBIO',\n",
    "  'BODY CAREIMPERIAL LEATHER',\n",
    "  'BODY CAREINGRAM',\n",
    "  'BODY CARELURON',\n",
    "  'BODY CARENICE AND LOVELY',\n",
    "  'BODY CARENIVEA',\n",
    "  'BODY CARETROPICAL',\n",
    "  'BODY CAREVALON',\n",
    "  'BODY CAREVASELINE',\n",
    "  'BODY CAREVERSMAN',\n",
    "  'BODY CAREZOE',\n",
    "  'BODY CARE',\n",
    "  'COTTON WOOL & BUDSDOVE',\n",
    "  'COTTON WOOL & BUDSTENA',\n",
    "  'COTTON WOOL & BUDSTENDERCARE',\n",
    "  'COTTON WOOL & BUDSTIPPYS',\n",
    "  'COTTON WOOL & BUDSVELVEX',\n",
    "  'COTTON WOOL & BUDS',\n",
    "  'DEODORANTS & ANTIPERSPIRANTSAXE',\n",
    "  'DEODORANTS & ANTIPERSPIRANTSCHRIS ADAMS',\n",
    "  'DEODORANTS & ANTIPERSPIRANTSFA',\n",
    "  'DEODORANTS & ANTIPERSPIRANTSLURON',\n",
    "  'DEODORANTS & ANTIPERSPIRANTSNIVEA',\n",
    "  'DEODORANTS & ANTIPERSPIRANTSRASASI',\n",
    "  'DEODORANTS & ANTIPERSPIRANTSREXONA',\n",
    "  'DEODORANTS & ANTIPERSPIRANTS',\n",
    "  'FACE CAREACNES',\n",
    "  'FACE CAREARYUV',\n",
    "  'FACE CAREBELLA',\n",
    "  'FACE CAREDETTOL',\n",
    "  'FACE CAREGARNIER',\n",
    "  'FACE CAREHANAN',\n",
    "  'FACE CARELA FEMME',\n",
    "  'FACE CARELURON',\n",
    "  'FACE CARENIVEA',\n",
    "  'FACE CARESIMPLE',\n",
    "  'FACE CAREST.IVES']"
   ]
  }
 ],
 "metadata": {
  "kernelspec": {
   "display_name": "Python 3 (ipykernel)",
   "language": "python",
   "name": "python3"
  },
  "language_info": {
   "codemirror_mode": {
    "name": "ipython",
    "version": 3
   },
   "file_extension": ".py",
   "mimetype": "text/x-python",
   "name": "python",
   "nbconvert_exporter": "python",
   "pygments_lexer": "ipython3",
   "version": "3.8.16"
  }
 },
 "nbformat": 4,
 "nbformat_minor": 5
}
